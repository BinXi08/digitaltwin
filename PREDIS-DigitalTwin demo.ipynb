{
 "cells": [
  {
   "cell_type": "code",
   "execution_count": 1,
   "id": "4d1b12c1",
   "metadata": {},
   "outputs": [],
   "source": [
    "from IPython.display import display, clear_output\n",
    "#import IPython.display as ipyds\n",
    "import ipyvuetify as v\n",
    "import pandas as pd\n",
    "#import numpy as np\n",
    "import ipywidgets as widgets\n",
    "import time as t\n",
    "#import matplotlib.pylab as plt\n",
    "from run.hydration import bouges_composition\n",
    "from run.hydration import parrot_killoh\n",
    "from run.hydration import run_hydration\n",
    "from run.hydration import plot_bars\n",
    "from run.hydration import phase_plot\n",
    "from run.hydration import to_phase_first_dict\n",
    "#import plotly.express as px\n",
    "import plotly.graph_objects as go\n",
    "#from ipysheet import from_dataframe"
   ]
  },
  {
   "cell_type": "code",
   "execution_count": 2,
   "id": "b474ae40",
   "metadata": {},
   "outputs": [],
   "source": [
    "#import matplotlib as mpl\n",
    "#mpl.rcParams['figure.figsize']=[15,15]"
   ]
  },
  {
   "cell_type": "code",
   "execution_count": 3,
   "id": "c3d2d732",
   "metadata": {},
   "outputs": [],
   "source": [
    "def make_dropdown(label_, dic_):\n",
    "    return v.Select(label=label_, v_model = \"\",\n",
    "    items=dic_[label_], style_='width: 250px; opacity: 1')"
   ]
  },
  {
   "cell_type": "markdown",
   "id": "e6b8b0b8",
   "metadata": {},
   "source": [
    "#parameters for parrot and killoh model source: lothenbach et al. 2008\n",
    "K1 = {\"C3S\":1.5,\"C2S\":0.5,\"C3A\":1.,\"C4AF\":0.37}\n",
    "N1 = {\"C3S\":0.7,\"C2S\":1.0,\"C3A\":0.85,\"C4AF\":0.7}\n",
    "K2 = {\"C3S\":0.05,\"C2S\":0.02,\"C3A\":0.04,\"C4AF\":0.015}\n",
    "K3 = {\"C3S\":1.1,\"C2S\":0.7,\"C3A\":1.0,\"C4AF\":0.4}\n",
    "N3 = {\"C3S\":3.3,\"C2S\":5.0,\"C3A\":3.2,\"C4AF\":3.7}\n",
    "H  = {\"C3S\":1.8,\"C2S\":1.35,\"C3A\":1.6,\"C4AF\":1.45}\n",
    "Ea = {\"C3S\":41570,\"C2S\":20785,\"C3A\":54040,\"C4AF\":34087} #from barbara's excel sheets in paper only 2 leading digits are given\n",
    "T0 = 20#c\n",
    "ref_fineness = 385"
   ]
  },
  {
   "cell_type": "markdown",
   "id": "85969371",
   "metadata": {},
   "source": [
    "def parrot_killoh():\n",
    "    DoH = {}\n",
    "    for phase in [\"C3S\",\"C2S\",\"C3A\",\"C4AF\"]:\n",
    "        ivp_out = solve_ivp(overall_rate, [0,np.max(output_times)], [1e-15],t_eval=output_times\n",
    "                           ,args=(K1[phase],N1[phase],K2[phase],K3[phase],N3[phase],\n",
    "                           H[phase],wc,RH,fineness,ref_fineness,T0,Ea[phase]))\n",
    "        DoH[phase] = np.squeeze(ivp_out.y[0])\n",
    "    return DoH"
   ]
  },
  {
   "cell_type": "code",
   "execution_count": 4,
   "id": "db616539",
   "metadata": {},
   "outputs": [],
   "source": [
    "# models selection\n",
    "GeoChemProcesses = {'Geochemical Processes':  ['Cement Hydration', 'Cement Carbonation', 'Metal Corrosion', 'Organics Degradation']}\n",
    "dropdownGeoChemProcesses = make_dropdown('Geochemical Processes', GeoChemProcesses)\n",
    "MechProcesses = {'Mechanical Processes': ['Porosity/Permeability Evolution', 'Strain Field Evolution', 'Other...']}\n",
    "dropdownMechProcesses = make_dropdown('Mechanical Processes', MechProcesses)\n",
    "SurogateProcesses = {'Surogate modeling': ['Train Surogate Models', 'Test Surogate Models']}\n",
    "dropdownSurogateProcesses = make_dropdown('Surogate modeling', SurogateProcesses)\n",
    "#dropdownProcesses"
   ]
  },
  {
   "cell_type": "code",
   "execution_count": 5,
   "id": "cc766bf6",
   "metadata": {},
   "outputs": [],
   "source": [
    "container_dropdown = v.Container(_metadata={'mount_id': 'content-nav'}, class_='px-1 mx-0', \n",
    "                                 children=[dropdownGeoChemProcesses, dropdownMechProcesses, dropdownSurogateProcesses])"
   ]
  },
  {
   "cell_type": "code",
   "execution_count": 6,
   "id": "5e5e684a",
   "metadata": {},
   "outputs": [],
   "source": [
    "#input list\n",
    "'''\n",
    "CaO=64.18\n",
    "SiO2=21.01\n",
    "Al2O3=4.63\n",
    "Fe2O3=2.6\n",
    "SO3=2.78\n",
    "MgO=1.82\n",
    "CSH2=2.2 #gypsum \n",
    "'''\n",
    "form_input_cement = v.Form(label='input',  class_='px-0 mx-5', children=[v.Container(children=[\n",
    "    v.Row(children=[\n",
    "        v.TextField(v_model='oxide composition in weight %', filled = True, disabled=True,\n",
    "                    label=\"Cement composition\", value = 'info')\n",
    "    ]),\n",
    "    v.Row(children=[\n",
    "        v.TextField(label=\"CaO\", value = '64.18', v_model = '64.18')\n",
    "    ]),\n",
    "    v.Row(children=[\n",
    "        v.TextField(label=\"SiO2\", value = '21.01', v_model = '21.01')\n",
    "    ]),\n",
    "    v.Row(children=[\n",
    "        v.TextField(label=\"Al2O3\", value = '4.63', v_model = '4.63')\n",
    "    ]),\n",
    "    v.Row(children=[\n",
    "        v.TextField(label=\"Fe2O3\", value = '2.6', v_model = '2.6')\n",
    "    ]),\n",
    "    v.Row(children=[\n",
    "        v.TextField(label=\"SO3\", value = '2.78', v_model = '2.78')\n",
    "    ]),\n",
    "    v.Row(children=[\n",
    "        v.TextField(label=\"MgO\", value = '1.82', v_model = '1.82')\n",
    "    ]),\n",
    "    v.Row(children=[\n",
    "        v.TextField(label=\"Gypsum\", value = '2.2', v_model = '2.2')\n",
    "    ])\n",
    "])])\n",
    "\n",
    "# input other\n",
    "form_input_other = v.Form(label='input-other', class_='px-0 mx-10', children=[v.Container(children=[\n",
    "    v.Row(children=[\n",
    "        v.TextField(v_model='input for the model mix composition', filled = True, disabled=True,\n",
    "                    label=\"Other input\", value = 'info')\n",
    "    ]),\n",
    "    v.Row(children=[\n",
    "        v.TextField(label=\"water/cement\", value = '0.5', v_model = '0.5')\n",
    "    ]),\n",
    "    v.Row(children=[\n",
    "        v.TextField(label=\"Relative-Humidity\", value = '1', v_model = '1')\n",
    "    ]),\n",
    "        v.Row(children=[\n",
    "        v.TextField(label=\"Temperature C\", value = '45', v_model = '45', disabled=True)\n",
    "    ]),\n",
    "        v.Row(children=[\n",
    "        v.TextField(label=\"Fineness\", value = '385', v_model = '385', disabled=True)\n",
    "    ])\n",
    "])])"
   ]
  },
  {
   "cell_type": "code",
   "execution_count": 7,
   "id": "83728cb7",
   "metadata": {},
   "outputs": [],
   "source": [
    "output_plot1 = widgets.Output(layout = { 'min_width': '800px', 'height': '100%'})\n",
    "#output_plot2 = widgets.Output(layout = { 'min_width': '800px', 'height': '100%'})"
   ]
  },
  {
   "cell_type": "markdown",
   "id": "18c1b79f",
   "metadata": {},
   "source": [
    "layout = {\n",
    "            'width': '100%',\n",
    "            'height': '500px',\n",
    "            'border': '1px solid black'\n",
    "        }"
   ]
  },
  {
   "cell_type": "code",
   "execution_count": 8,
   "id": "d92bf73d",
   "metadata": {},
   "outputs": [],
   "source": [
    "#plot_container = v.Container(children=[output_plot1 ])"
   ]
  },
  {
   "cell_type": "code",
   "execution_count": 9,
   "id": "7ca17381",
   "metadata": {},
   "outputs": [],
   "source": [
    "def make_tabs(inputs, outputs):\n",
    "    return v.Tabs( class_='mx-4', children=[\n",
    "           v.Tab(children=['Process Input']),\n",
    "           v.Tab(children=['Process Results']),\n",
    "           v.TabItem(children=[v.Layout(row =True, wrap=True, align_top=True, \n",
    "                        children=[v.Flex(xs12=True, lg6=True, xl4=False, children=[input_]) for input_ in inputs ]) ]),\n",
    "           v.TabItem(children=[v.Layout(row=True, wrap=True, align_center=True, \n",
    "                        children=[v.Flex(xs12=True, lg6=True, xl4=True, class_='px-2 mx-0', children=[output_]) for output_ in outputs ]) ])\n",
    "           ])"
   ]
  },
  {
   "cell_type": "code",
   "execution_count": 10,
   "id": "510ab9e2",
   "metadata": {},
   "outputs": [],
   "source": [
    "tabs_hydration = make_tabs([form_input_cement, form_input_other], [output_plot1])\n",
    "tabs_carbonation = make_tabs([], [])\n",
    "#tabs"
   ]
  },
  {
   "cell_type": "code",
   "execution_count": 11,
   "id": "24d6e980",
   "metadata": {},
   "outputs": [],
   "source": [
    "def make_card_process(title_, subtitle_, tabs_):\n",
    "    return v.Card( children = [v.CardTitle(children=title_),\n",
    "                               v.CardSubtitle(children=subtitle_), \n",
    "                               v.Layout( row=True, wrap=True, align_center=True, children=[\n",
    "                                        v.Flex(xs12=True, lg6=True, xl4=True, children=[\n",
    "                                            tabs_]) ]),\n",
    "                               v.CardActions(class_='pl-4 ml-4', children=[ \n",
    "                                        v.Btn(color='primary', children=['Run Process']) ]) ], \n",
    "                    elevation=\"2\", outlined=True, loading=False)"
   ]
  },
  {
   "cell_type": "code",
   "execution_count": 12,
   "id": "39a5b91c",
   "metadata": {},
   "outputs": [],
   "source": [
    "# Other process card\n",
    "card_process_trainNN = v.Card(children = [\n",
    "    v.CardTitle(children=\"Train Cement Hydration surogate model\"),\n",
    "    v.CardSubtitle(children=\"here the user could setup and train a cement hydration surogate model\")\n",
    "], elevation=\"2\", outlined=True)\n",
    "\n",
    "card_process_testNN = v.Card(children = [\n",
    "    v.CardTitle(children=\"Test trained surogate models\"),\n",
    "    v.CardSubtitle(children=\"Here the user could test/run surogate models for different eveolution processes\")\n",
    "], elevation=\"2\", outlined=True)\n",
    "\n",
    "card_process_mechanics = v.Card(children = [\n",
    "    v.CardTitle(children=\"Mechanical properties\"),\n",
    "    v.CardSubtitle(children=\"here the user could run a process on the mechanical properties of the waste pacakge that uses some output that from previous (chemical) processes\")\n",
    "], elevation=\"2\", outlined=True)\n",
    "\n",
    "# Cement hydration process card\n",
    "card_process_cem_hydration = make_card_process('Cement hydration', \n",
    "                                           'OPC cement paste hydration process using Parrot and Killoh hydration model, GEMS and CEMDATA18',\n",
    "                                           tabs_hydration)\n",
    "# carbonation\n",
    "card_process_cem_crabonation = make_card_process('Cement Carbonation', \n",
    "                                           'Model to run cement carbonation ...',\n",
    "                                           tabs_carbonation)\n",
    "card_process_met_corrosion = make_card_process('Metal Corrosion', \n",
    "                                           'Model to run Metal Corrosion ...',\n",
    "                                           tabs_carbonation)\n",
    "card_process_org_degradation = make_card_process('Organics Degradation', \n",
    "                                           'Model to run Organics Degradation ...',\n",
    "                                           tabs_carbonation)\n",
    "\n",
    "# main card added to the web-widget\n",
    "#card_main = v.Card(_metadata={'mount_id': 'content-main'}, children = [])\n",
    "container_main = v.Container(_metadata={'mount_id': 'content-main'}, class_='pl-4 ml-4', children=[])"
   ]
  },
  {
   "cell_type": "code",
   "execution_count": 13,
   "id": "76267d8b",
   "metadata": {},
   "outputs": [],
   "source": [
    "def check(list1, val):\n",
    "    for e in list1:\n",
    "        if e > val:\n",
    "            return True\n",
    "    return False"
   ]
  },
  {
   "cell_type": "code",
   "execution_count": 14,
   "id": "b89a3eac",
   "metadata": {},
   "outputs": [],
   "source": [
    "# Run simulation click\n",
    "count = 0\n",
    "\n",
    "def on_click(widget, event, data):\n",
    "    global count\n",
    "    #amount = form_input_cement.children[0].children[count].children[0].v_model\n",
    "    #card_process_hydration.children[3].children[0].children=[f'Click me {amount}']\n",
    "    card_process_cem_hydration.loading = True\n",
    "    #t.sleep(1)\n",
    "    #count += 1\n",
    "    \n",
    "    CaO=float(form_input_cement.children[0].children[1].children[0].v_model)\n",
    "    SiO2=float(form_input_cement.children[0].children[2].children[0].v_model)\n",
    "    Al2O3=float(form_input_cement.children[0].children[3].children[0].v_model)\n",
    "    Fe2O3=float(form_input_cement.children[0].children[4].children[0].v_model)\n",
    "    SO3=float(form_input_cement.children[0].children[5].children[0].v_model)\n",
    "    MgO=float(form_input_cement.children[0].children[6].children[0].v_model)\n",
    "    CSH2=float(form_input_cement.children[0].children[7].children[0].v_model)\n",
    "    \n",
    "    wc = float(form_input_other.children[0].children[1].children[0].v_model)\n",
    "    RH = float(form_input_other.children[0].children[2].children[0].v_model)\n",
    "    T = float(form_input_other.children[0].children[3].children[0].v_model)\n",
    "    fineness = float(form_input_other.children[0].children[4].children[0].v_model)\n",
    "    \n",
    "    clinker_phases = bouges_composition(CaO,SiO2,Al2O3,Fe2O3,SO3)\n",
    "    \n",
    "    pk = parrot_killoh(wc, RH, T, fineness)\n",
    "    \n",
    "    try:\n",
    "        vol_frac, mass_frac, density = run_hydration(clinker_phases, wc, CSH2, T, pk)\n",
    "    except Exception as e:\n",
    "        print(e)\n",
    "    \n",
    "    with output_plot1:         \n",
    "        clear_output(wait=True)\n",
    "        gems_vol_frac_phase_first = to_phase_first_dict(vol_frac)\n",
    "        gems_masses_phase_first = to_phase_first_dict(mass_frac)\n",
    "        #p2 = phase_plot(gems_vol_frac_phase_first)\n",
    "        #p2.show()\n",
    "        \n",
    "        x= [0.,0.1,1,3,7,28,30,60,90,365, 730,1000,2000]\n",
    "        #['aq_gen', 'C3(AF)S0_84H', 'CSHQ', 'Belite']\n",
    "        \n",
    "        size = 0\n",
    "\n",
    "        fig = go.Figure()\n",
    "        for g in gems_vol_frac_phase_first:\n",
    "            if  check(gems_vol_frac_phase_first[g], 1e-3):#np.count_nonzero(gems_vol_frac_phase_first[g]) > 0:\n",
    "                size=size+1\n",
    "                fig.add_trace(go.Scatter(\n",
    "                    x=x, y=gems_vol_frac_phase_first[g],\n",
    "                    hoverinfo='x+y',\n",
    "                    name=g,\n",
    "                    mode='lines',\n",
    "                    line=dict(width=0.5), #color='rgb(131, 90, 241)'),\n",
    "                    stackgroup='one', # define stack group\n",
    "                    hovertemplate='%{y}'\n",
    "                ))\n",
    "                \n",
    "        for g in gems_masses_phase_first:\n",
    "            if  check(gems_masses_phase_first[g], 1e-3):#np.count_nonzero(gems_vol_frac_phase_first[g]) > 0:\n",
    "                size=size+1\n",
    "                fig.add_trace(go.Scatter(\n",
    "                    x=x, y=gems_masses_phase_first[g],\n",
    "                    hoverinfo='x+y',\n",
    "                    name=g,\n",
    "                    mode='lines',\n",
    "                    line=dict(width=0.5), #color='rgb(131, 90, 241)'),\n",
    "                    stackgroup='two', # define stack group\n",
    "                    hovertemplate='%{y}',\n",
    "                    visible=False\n",
    "                ))  \n",
    "\n",
    "\n",
    "        fig.update_xaxes(type=\"log\")\n",
    "        fig.update_layout(  yaxis_range=(0, 1), \n",
    "                            title = \"volume fraction\",\n",
    "                            xaxis_title=\"Time [days]\",\n",
    "                            yaxis_title=\"Volume fraction [m^3/m^3 of initial volume]\",\n",
    "                            legend_title=\"Phases\",\n",
    "                            hovermode='x',     \n",
    "                              updatemenus=[\n",
    "                dict(\n",
    "                buttons=list([\n",
    "                    dict(\n",
    "                        #args=[\"type\", \"volfrac\"],q.index(v) if v in q else 99999 for v in vm\n",
    "                        args = [{\"visible\": [ True if x<size/2 else False for x in range(size) ]}, \n",
    "                                {\"xaxis.type\": \"log\", \"yaxis.range\" : [0, 1], \n",
    "                                 \"yaxis.title\": \"Volume fraction [m^3/m^3 of initial volume]\", \n",
    "                                 \"xaxis.title\": \"Time [days]\", \"title\": \"volume fraction\"}],\n",
    "                        label=\"Volume Fraction\",\n",
    "                        method=\"update\"\n",
    "                        ),\n",
    "                    dict(\n",
    "                        #args=[\"type\", \"masfrac\"],\n",
    "                        args = [{\"visible\": [ False if x<size/2 else True for x in range(size) ]},\n",
    "                                {\"xaxis.type\": \"log\", \"yaxis.range\" : [0, 0.1435], \n",
    "                                 \"yaxis.title\": \"mass [g/100 g of cement]\", \n",
    "                                 \"xaxis.title\": \"Time [days]\", \"title\": \"mass fraction\"}],\n",
    "                        label=\"Mass Fraction\",\n",
    "                        method=\"update\"\n",
    "                    )\n",
    "                ]),\n",
    "                direction=\"down\",\n",
    "                pad={\"r\": 10, \"t\": 10},\n",
    "                showactive=True,\n",
    "                x=1.0,\n",
    "                xanchor=\"left\",\n",
    "                y=1.15,\n",
    "                yanchor=\"top\"\n",
    "                )\n",
    "        ])\n",
    "        \n",
    "        #pd_vol_frac = pd.DataFrame.from_dict(vol_frac)\n",
    "        \n",
    "        fig.show()\n",
    "        \n",
    "        #ipyds.display(from_dataframe(pd_vol_frac))\n",
    "        \n",
    "        #tabs.v_model='tab1'\n",
    "        \n",
    "    t.sleep(1)\n",
    "    \n",
    "    card_process_cem_hydration.loading = False\n",
    "    \n",
    "    #fig1.layout.width = 'auto'\n",
    "    #fig1.layout.height = 'auto'\n",
    "    #fig1.layout.min_height = '300px' # so it shows nicely in the notebook\n",
    "    \n",
    "card_process_cem_hydration.children[3].children[0].on_event('click', on_click)"
   ]
  },
  {
   "cell_type": "code",
   "execution_count": 15,
   "id": "f36a6ea7",
   "metadata": {},
   "outputs": [],
   "source": [
    "#vol_frac.head() 'Cement Hydration', 'Mechanical evolution', 'Train Surogate Models', 'Test Surogate Models']"
   ]
  },
  {
   "cell_type": "code",
   "execution_count": 16,
   "id": "61c1273e",
   "metadata": {},
   "outputs": [
    {
     "data": {
      "application/vnd.jupyter.widget-view+json": {
       "model_id": "281918edc76f4730b32e9654b8ce05b2",
       "version_major": 2,
       "version_minor": 0
      },
      "text/plain": [
       "Card(children=[CardTitle(children=['Cement hydration']), CardSubtitle(children=['OPC cement paste hydration pr…"
      ]
     },
     "metadata": {},
     "output_type": "display_data"
    }
   ],
   "source": [
    "card_process_cem_hydration"
   ]
  },
  {
   "cell_type": "code",
   "execution_count": 17,
   "id": "e163d409",
   "metadata": {},
   "outputs": [],
   "source": [
    "def dropdownGeoChemProcesses_eventhandler(change):\n",
    "    if (change.new == \"Cement Hydration\"):\n",
    "        container_main.children = [card_process_cem_hydration]\n",
    "    elif (change.new == \"Cement Carbonation\"):\n",
    "        container_main.children = [card_process_cem_crabonation]\n",
    "    elif (change.new == \"Metal Corrosion\"):\n",
    "        container_main.children = [card_process_met_corrosion]\n",
    "    elif (change.new == \"Organics Degradation\"):\n",
    "        container_main.children = [card_process_org_degradation]\n",
    "    #with output:\n",
    "        #clear_output(wait=True)\n",
    "        #display(c)\n",
    "#output = widgets.Output(_metadata={'mount_id': 'content-main'})"
   ]
  },
  {
   "cell_type": "code",
   "execution_count": 18,
   "id": "ae972450",
   "metadata": {},
   "outputs": [],
   "source": [
    "dropdownGeoChemProcesses.observe(dropdownGeoChemProcesses_eventhandler, names='v_model')"
   ]
  },
  {
   "cell_type": "code",
   "execution_count": 19,
   "id": "871640e3",
   "metadata": {},
   "outputs": [
    {
     "data": {
      "application/vnd.jupyter.widget-view+json": {
       "model_id": "575a3e65edc04bc2928551f84d8276af",
       "version_major": 2,
       "version_minor": 0
      },
      "text/plain": [
       "Select(items=['Cement Hydration', 'Cement Carbonation', 'Metal Corrosion', 'Organics Degradation'], label='Geo…"
      ]
     },
     "metadata": {},
     "output_type": "display_data"
    },
    {
     "data": {
      "application/vnd.jupyter.widget-view+json": {
       "model_id": "94346291bdf3474d94750856b4eee853",
       "version_major": 2,
       "version_minor": 0
      },
      "text/plain": [
       "Container(class_='pl-4 ml-4')"
      ]
     },
     "metadata": {},
     "output_type": "display_data"
    }
   ],
   "source": [
    "display(dropdownGeoChemProcesses)\n",
    "#card_main.loading=True\n",
    "container_main"
   ]
  },
  {
   "cell_type": "code",
   "execution_count": null,
   "id": "ea45decb",
   "metadata": {},
   "outputs": [],
   "source": []
  }
 ],
 "metadata": {
  "kernelspec": {
   "display_name": "Python 3 (ipykernel)",
   "language": "python",
   "name": "python3"
  },
  "language_info": {
   "codemirror_mode": {
    "name": "ipython",
    "version": 3
   },
   "file_extension": ".py",
   "mimetype": "text/x-python",
   "name": "python",
   "nbconvert_exporter": "python",
   "pygments_lexer": "ipython3",
   "version": "3.7.5"
  }
 },
 "nbformat": 4,
 "nbformat_minor": 5
}
